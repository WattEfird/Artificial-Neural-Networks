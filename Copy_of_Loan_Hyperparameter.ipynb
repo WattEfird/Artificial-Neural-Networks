{
  "cells": [
    {
      "cell_type": "markdown",
      "metadata": {
        "id": "view-in-github",
        "colab_type": "text"
      },
      "source": [
        "<a href=\"https://colab.research.google.com/github/WattNotWhat/ANN-Hands-On-Project/blob/main/Copy_of_Loan_Hyperparameter.ipynb\" target=\"_parent\"><img src=\"https://colab.research.google.com/assets/colab-badge.svg\" alt=\"Open In Colab\"/></a>"
      ]
    },
    {
      "cell_type": "code",
      "execution_count": 2,
      "metadata": {
        "id": "UK2k3Mg-q9Rj"
      },
      "outputs": [],
      "source": [
        "# To help with reading and manipulation of data\n",
        "import numpy as np\n",
        "import pandas as pd\n",
        "\n",
        "# To help with data visualization\n",
        "import matplotlib.pyplot as plt\n",
        "import seaborn as sns\n",
        "\n",
        "# To split the data\n",
        "from sklearn.model_selection import train_test_split\n",
        "\n",
        "# To impute missing values\n",
        "from sklearn.impute import SimpleImputer\n",
        "\n",
        "# To build a Random forest classifier\n",
        "from sklearn.ensemble import RandomForestClassifier\n",
        "\n",
        "# To tune a model\n",
        "from sklearn.model_selection import GridSearchCV\n",
        "from sklearn.model_selection import RandomizedSearchCV\n",
        "\n",
        "# To get different performance metrics\n",
        "import sklearn.metrics as metrics\n",
        "from sklearn.metrics import (\n",
        "    classification_report,\n",
        "    confusion_matrix,\n",
        "    recall_score,\n",
        "    accuracy_score,\n",
        "    precision_score,\n",
        "    f1_score,\n",
        ")\n",
        "\n",
        "# To suppress warnings\n",
        "import warnings\n",
        "\n",
        "warnings.filterwarnings(\"ignore\")"
      ]
    },
    {
      "cell_type": "code",
      "source": [
        "from google.colab import drive\n",
        "drive.mount('/content/drive')"
      ],
      "metadata": {
        "colab": {
          "base_uri": "https://localhost:8080/"
        },
        "id": "9siRbms3w2fH",
        "outputId": "caa907ab-a93f-4ca3-8f98-bb2e7806d308"
      },
      "execution_count": 3,
      "outputs": [
        {
          "output_type": "stream",
          "name": "stdout",
          "text": [
            "Drive already mounted at /content/drive; to attempt to forcibly remount, call drive.mount(\"/content/drive\", force_remount=True).\n"
          ]
        }
      ]
    },
    {
      "cell_type": "code",
      "execution_count": 4,
      "metadata": {
        "id": "SxWxMOHXS2sV"
      },
      "outputs": [],
      "source": [
        "df = pd.read_csv(\"/content/drive/MyDrive/DSBA/loan.csv\")"
      ]
    },
    {
      "cell_type": "code",
      "execution_count": 5,
      "metadata": {
        "id": "OxNrrzU3TCi7"
      },
      "outputs": [],
      "source": [
        "data = df.copy()"
      ]
    },
    {
      "cell_type": "code",
      "execution_count": 6,
      "metadata": {
        "id": "QxTOFKJdTEmS",
        "colab": {
          "base_uri": "https://localhost:8080/",
          "height": 339
        },
        "outputId": "405d32d9-ef93-4d84-d0d9-23f981587b9e"
      },
      "outputs": [
        {
          "output_type": "execute_result",
          "data": {
            "text/plain": [
              "   customer_id  disbursed_amount  interest market    employment time_employed  \\\n",
              "0            0           23201.5   15.4840      C       Teacher     <=5 years   \n",
              "1            1            7425.0   11.2032      B    Accountant     <=5 years   \n",
              "2            2           11150.0    8.5100      A  Statistician     <=5 years   \n",
              "3            3            7600.0    5.8656      A         Other     <=5 years   \n",
              "4            4           31960.0   18.7392      E    Bus driver      >5 years   \n",
              "\n",
              "  householder    income date_issued  target        loan_purpose  \\\n",
              "0        RENT   84600.0  2013-06-11       0  Debt consolidation   \n",
              "1       OWNER  102000.0  2014-05-08       0        Car purchase   \n",
              "2        RENT   69840.0  2013-10-26       0  Debt consolidation   \n",
              "3        RENT  100386.0  2015-08-20       0  Debt consolidation   \n",
              "4        RENT   95040.0  2014-07-22       0  Debt consolidation   \n",
              "\n",
              "   number_open_accounts date_last_payment  number_credit_lines_12  \n",
              "0                   4.0        2016-01-14                     NaN  \n",
              "1                  13.0        2016-01-25                     NaN  \n",
              "2                   8.0        2014-09-26                     NaN  \n",
              "3                  20.0        2016-01-26                     NaN  \n",
              "4                  14.0        2016-01-11                     NaN  "
            ],
            "text/html": [
              "\n",
              "  <div id=\"df-3d64403c-4c06-4610-a4f7-db62556c91a6\">\n",
              "    <div class=\"colab-df-container\">\n",
              "      <div>\n",
              "<style scoped>\n",
              "    .dataframe tbody tr th:only-of-type {\n",
              "        vertical-align: middle;\n",
              "    }\n",
              "\n",
              "    .dataframe tbody tr th {\n",
              "        vertical-align: top;\n",
              "    }\n",
              "\n",
              "    .dataframe thead th {\n",
              "        text-align: right;\n",
              "    }\n",
              "</style>\n",
              "<table border=\"1\" class=\"dataframe\">\n",
              "  <thead>\n",
              "    <tr style=\"text-align: right;\">\n",
              "      <th></th>\n",
              "      <th>customer_id</th>\n",
              "      <th>disbursed_amount</th>\n",
              "      <th>interest</th>\n",
              "      <th>market</th>\n",
              "      <th>employment</th>\n",
              "      <th>time_employed</th>\n",
              "      <th>householder</th>\n",
              "      <th>income</th>\n",
              "      <th>date_issued</th>\n",
              "      <th>target</th>\n",
              "      <th>loan_purpose</th>\n",
              "      <th>number_open_accounts</th>\n",
              "      <th>date_last_payment</th>\n",
              "      <th>number_credit_lines_12</th>\n",
              "    </tr>\n",
              "  </thead>\n",
              "  <tbody>\n",
              "    <tr>\n",
              "      <th>0</th>\n",
              "      <td>0</td>\n",
              "      <td>23201.5</td>\n",
              "      <td>15.4840</td>\n",
              "      <td>C</td>\n",
              "      <td>Teacher</td>\n",
              "      <td>&lt;=5 years</td>\n",
              "      <td>RENT</td>\n",
              "      <td>84600.0</td>\n",
              "      <td>2013-06-11</td>\n",
              "      <td>0</td>\n",
              "      <td>Debt consolidation</td>\n",
              "      <td>4.0</td>\n",
              "      <td>2016-01-14</td>\n",
              "      <td>NaN</td>\n",
              "    </tr>\n",
              "    <tr>\n",
              "      <th>1</th>\n",
              "      <td>1</td>\n",
              "      <td>7425.0</td>\n",
              "      <td>11.2032</td>\n",
              "      <td>B</td>\n",
              "      <td>Accountant</td>\n",
              "      <td>&lt;=5 years</td>\n",
              "      <td>OWNER</td>\n",
              "      <td>102000.0</td>\n",
              "      <td>2014-05-08</td>\n",
              "      <td>0</td>\n",
              "      <td>Car purchase</td>\n",
              "      <td>13.0</td>\n",
              "      <td>2016-01-25</td>\n",
              "      <td>NaN</td>\n",
              "    </tr>\n",
              "    <tr>\n",
              "      <th>2</th>\n",
              "      <td>2</td>\n",
              "      <td>11150.0</td>\n",
              "      <td>8.5100</td>\n",
              "      <td>A</td>\n",
              "      <td>Statistician</td>\n",
              "      <td>&lt;=5 years</td>\n",
              "      <td>RENT</td>\n",
              "      <td>69840.0</td>\n",
              "      <td>2013-10-26</td>\n",
              "      <td>0</td>\n",
              "      <td>Debt consolidation</td>\n",
              "      <td>8.0</td>\n",
              "      <td>2014-09-26</td>\n",
              "      <td>NaN</td>\n",
              "    </tr>\n",
              "    <tr>\n",
              "      <th>3</th>\n",
              "      <td>3</td>\n",
              "      <td>7600.0</td>\n",
              "      <td>5.8656</td>\n",
              "      <td>A</td>\n",
              "      <td>Other</td>\n",
              "      <td>&lt;=5 years</td>\n",
              "      <td>RENT</td>\n",
              "      <td>100386.0</td>\n",
              "      <td>2015-08-20</td>\n",
              "      <td>0</td>\n",
              "      <td>Debt consolidation</td>\n",
              "      <td>20.0</td>\n",
              "      <td>2016-01-26</td>\n",
              "      <td>NaN</td>\n",
              "    </tr>\n",
              "    <tr>\n",
              "      <th>4</th>\n",
              "      <td>4</td>\n",
              "      <td>31960.0</td>\n",
              "      <td>18.7392</td>\n",
              "      <td>E</td>\n",
              "      <td>Bus driver</td>\n",
              "      <td>&gt;5 years</td>\n",
              "      <td>RENT</td>\n",
              "      <td>95040.0</td>\n",
              "      <td>2014-07-22</td>\n",
              "      <td>0</td>\n",
              "      <td>Debt consolidation</td>\n",
              "      <td>14.0</td>\n",
              "      <td>2016-01-11</td>\n",
              "      <td>NaN</td>\n",
              "    </tr>\n",
              "  </tbody>\n",
              "</table>\n",
              "</div>\n",
              "      <button class=\"colab-df-convert\" onclick=\"convertToInteractive('df-3d64403c-4c06-4610-a4f7-db62556c91a6')\"\n",
              "              title=\"Convert this dataframe to an interactive table.\"\n",
              "              style=\"display:none;\">\n",
              "        \n",
              "  <svg xmlns=\"http://www.w3.org/2000/svg\" height=\"24px\"viewBox=\"0 0 24 24\"\n",
              "       width=\"24px\">\n",
              "    <path d=\"M0 0h24v24H0V0z\" fill=\"none\"/>\n",
              "    <path d=\"M18.56 5.44l.94 2.06.94-2.06 2.06-.94-2.06-.94-.94-2.06-.94 2.06-2.06.94zm-11 1L8.5 8.5l.94-2.06 2.06-.94-2.06-.94L8.5 2.5l-.94 2.06-2.06.94zm10 10l.94 2.06.94-2.06 2.06-.94-2.06-.94-.94-2.06-.94 2.06-2.06.94z\"/><path d=\"M17.41 7.96l-1.37-1.37c-.4-.4-.92-.59-1.43-.59-.52 0-1.04.2-1.43.59L10.3 9.45l-7.72 7.72c-.78.78-.78 2.05 0 2.83L4 21.41c.39.39.9.59 1.41.59.51 0 1.02-.2 1.41-.59l7.78-7.78 2.81-2.81c.8-.78.8-2.07 0-2.86zM5.41 20L4 18.59l7.72-7.72 1.47 1.35L5.41 20z\"/>\n",
              "  </svg>\n",
              "      </button>\n",
              "      \n",
              "  <style>\n",
              "    .colab-df-container {\n",
              "      display:flex;\n",
              "      flex-wrap:wrap;\n",
              "      gap: 12px;\n",
              "    }\n",
              "\n",
              "    .colab-df-convert {\n",
              "      background-color: #E8F0FE;\n",
              "      border: none;\n",
              "      border-radius: 50%;\n",
              "      cursor: pointer;\n",
              "      display: none;\n",
              "      fill: #1967D2;\n",
              "      height: 32px;\n",
              "      padding: 0 0 0 0;\n",
              "      width: 32px;\n",
              "    }\n",
              "\n",
              "    .colab-df-convert:hover {\n",
              "      background-color: #E2EBFA;\n",
              "      box-shadow: 0px 1px 2px rgba(60, 64, 67, 0.3), 0px 1px 3px 1px rgba(60, 64, 67, 0.15);\n",
              "      fill: #174EA6;\n",
              "    }\n",
              "\n",
              "    [theme=dark] .colab-df-convert {\n",
              "      background-color: #3B4455;\n",
              "      fill: #D2E3FC;\n",
              "    }\n",
              "\n",
              "    [theme=dark] .colab-df-convert:hover {\n",
              "      background-color: #434B5C;\n",
              "      box-shadow: 0px 1px 3px 1px rgba(0, 0, 0, 0.15);\n",
              "      filter: drop-shadow(0px 1px 2px rgba(0, 0, 0, 0.3));\n",
              "      fill: #FFFFFF;\n",
              "    }\n",
              "  </style>\n",
              "\n",
              "      <script>\n",
              "        const buttonEl =\n",
              "          document.querySelector('#df-3d64403c-4c06-4610-a4f7-db62556c91a6 button.colab-df-convert');\n",
              "        buttonEl.style.display =\n",
              "          google.colab.kernel.accessAllowed ? 'block' : 'none';\n",
              "\n",
              "        async function convertToInteractive(key) {\n",
              "          const element = document.querySelector('#df-3d64403c-4c06-4610-a4f7-db62556c91a6');\n",
              "          const dataTable =\n",
              "            await google.colab.kernel.invokeFunction('convertToInteractive',\n",
              "                                                     [key], {});\n",
              "          if (!dataTable) return;\n",
              "\n",
              "          const docLinkHtml = 'Like what you see? Visit the ' +\n",
              "            '<a target=\"_blank\" href=https://colab.research.google.com/notebooks/data_table.ipynb>data table notebook</a>'\n",
              "            + ' to learn more about interactive tables.';\n",
              "          element.innerHTML = '';\n",
              "          dataTable['output_type'] = 'display_data';\n",
              "          await google.colab.output.renderOutput(dataTable, element);\n",
              "          const docLink = document.createElement('div');\n",
              "          docLink.innerHTML = docLinkHtml;\n",
              "          element.appendChild(docLink);\n",
              "        }\n",
              "      </script>\n",
              "    </div>\n",
              "  </div>\n",
              "  "
            ]
          },
          "metadata": {},
          "execution_count": 6
        }
      ],
      "source": [
        "data.head()"
      ]
    },
    {
      "cell_type": "code",
      "execution_count": 7,
      "metadata": {
        "id": "IaKgXqusb854",
        "colab": {
          "base_uri": "https://localhost:8080/"
        },
        "outputId": "35587154-2f34-416d-80cc-12d212b669dc"
      },
      "outputs": [
        {
          "output_type": "execute_result",
          "data": {
            "text/plain": [
              ">5 years     5057\n",
              "<=5 years    4414\n",
              "Name: time_employed, dtype: int64"
            ]
          },
          "metadata": {},
          "execution_count": 7
        }
      ],
      "source": [
        "data.time_employed.value_counts()"
      ]
    },
    {
      "cell_type": "code",
      "execution_count": 8,
      "metadata": {
        "id": "YKN2lf-OTFwB",
        "colab": {
          "base_uri": "https://localhost:8080/"
        },
        "outputId": "828009d5-38d8-4bcd-e37e-de660bef0f5a"
      },
      "outputs": [
        {
          "output_type": "stream",
          "name": "stdout",
          "text": [
            "<class 'pandas.core.frame.DataFrame'>\n",
            "RangeIndex: 10000 entries, 0 to 9999\n",
            "Data columns (total 14 columns):\n",
            " #   Column                  Non-Null Count  Dtype  \n",
            "---  ------                  --------------  -----  \n",
            " 0   customer_id             10000 non-null  int64  \n",
            " 1   disbursed_amount        10000 non-null  float64\n",
            " 2   interest                10000 non-null  float64\n",
            " 3   market                  10000 non-null  object \n",
            " 4   employment              9389 non-null   object \n",
            " 5   time_employed           9471 non-null   object \n",
            " 6   householder             10000 non-null  object \n",
            " 7   income                  10000 non-null  float64\n",
            " 8   date_issued             10000 non-null  object \n",
            " 9   target                  10000 non-null  int64  \n",
            " 10  loan_purpose            10000 non-null  object \n",
            " 11  number_open_accounts    10000 non-null  float64\n",
            " 12  date_last_payment       10000 non-null  object \n",
            " 13  number_credit_lines_12  238 non-null    float64\n",
            "dtypes: float64(5), int64(2), object(7)\n",
            "memory usage: 1.1+ MB\n"
          ]
        }
      ],
      "source": [
        "data.info()"
      ]
    },
    {
      "cell_type": "code",
      "execution_count": 9,
      "metadata": {
        "id": "W5Dyj4vAVfPn",
        "colab": {
          "base_uri": "https://localhost:8080/"
        },
        "outputId": "786aa48f-2a5f-4cf6-faf7-644ccde9520a"
      },
      "outputs": [
        {
          "output_type": "execute_result",
          "data": {
            "text/plain": [
              "customer_id                  0\n",
              "disbursed_amount             0\n",
              "interest                     0\n",
              "market                       0\n",
              "employment                 611\n",
              "time_employed              529\n",
              "householder                  0\n",
              "income                       0\n",
              "date_issued                  0\n",
              "target                       0\n",
              "loan_purpose                 0\n",
              "number_open_accounts         0\n",
              "date_last_payment            0\n",
              "number_credit_lines_12    9762\n",
              "dtype: int64"
            ]
          },
          "metadata": {},
          "execution_count": 9
        }
      ],
      "source": [
        "data.isnull().sum()"
      ]
    },
    {
      "cell_type": "code",
      "execution_count": 10,
      "metadata": {
        "id": "HwuSH5kmX0oC",
        "colab": {
          "base_uri": "https://localhost:8080/"
        },
        "outputId": "8ab8412f-53ab-4652-ad4f-32fdfd1f109c"
      },
      "outputs": [
        {
          "output_type": "execute_result",
          "data": {
            "text/plain": [
              "Civil Servant         884\n",
              "Nurse                 880\n",
              "Bus driver            874\n",
              "Other                 863\n",
              "Teacher               861\n",
              "Accountant            852\n",
              "Statistician          852\n",
              "Secretary             846\n",
              "Dentist               844\n",
              "Taxi driver           825\n",
              "Software developer    808\n",
              "Name: employment, dtype: int64"
            ]
          },
          "metadata": {},
          "execution_count": 10
        }
      ],
      "source": [
        "data[\"employment\"].value_counts()"
      ]
    },
    {
      "cell_type": "code",
      "execution_count": 11,
      "metadata": {
        "id": "K2F4RTYrcBXy"
      },
      "outputs": [],
      "source": [
        "x = {\">5 years\":0, \"<=5 years\":1}\n",
        "\n",
        "data[\"time_employed\"] = data[\"time_employed\"].map(x)"
      ]
    },
    {
      "cell_type": "code",
      "execution_count": 12,
      "metadata": {
        "id": "oe8wGES4ZYIA"
      },
      "outputs": [],
      "source": [
        "x = {\"Civil Servant\":0, \"Nurse\":1, \"Bus driver\":2, \"Other\":3, \"Teacher\":4,\n",
        "                            \"Accountant\":5, \"Statistician\":6, \"Secretary\":7, \"Secretary\":8, \"Dentist\":9\n",
        "                            , \"Taxi driver\":10, \"Software developer\":11}\n",
        "\n",
        "data[\"employment\"] = data[\"employment\"].map(x)"
      ]
    },
    {
      "cell_type": "code",
      "execution_count": 13,
      "metadata": {
        "id": "fdOPsD3JT6Ah",
        "colab": {
          "base_uri": "https://localhost:8080/"
        },
        "outputId": "b72c8efa-d86a-4579-fc27-49d3726262e0"
      },
      "outputs": [
        {
          "output_type": "execute_result",
          "data": {
            "text/plain": [
              "0    0.9883\n",
              "1    0.0117\n",
              "Name: target, dtype: float64"
            ]
          },
          "metadata": {},
          "execution_count": 13
        }
      ],
      "source": [
        "data[\"target\"].value_counts(1)"
      ]
    },
    {
      "cell_type": "code",
      "execution_count": 14,
      "metadata": {
        "id": "o4j-82CgUS2w"
      },
      "outputs": [],
      "source": [
        "X = data.drop([\"target\"], axis=1)\n",
        "y = data[\"target\"]\n",
        "\n",
        "X = pd.get_dummies(X, drop_first=True)"
      ]
    },
    {
      "cell_type": "code",
      "execution_count": 15,
      "metadata": {
        "id": "aP2Dbt6NUiDB",
        "colab": {
          "base_uri": "https://localhost:8080/"
        },
        "outputId": "9ff191b4-008b-4272-dfbb-ca65a38ffacc"
      },
      "outputs": [
        {
          "output_type": "stream",
          "name": "stdout",
          "text": [
            "(6400, 2732) (1600, 2732) (2000, 2732)\n"
          ]
        }
      ],
      "source": [
        "#Splitting the data into training, validation and test set\n",
        "\n",
        "#First we split the data into 2 parts, temporary and test set\n",
        "X_temp, X_test, y_temp, y_test = train_test_split(\n",
        "    X, y, test_size=0.2, random_state=5, stratify=y\n",
        ")\n",
        "\n",
        "#then we split the temporary dataset into train and validation\n",
        "X_train, X_val, y_train, y_val = train_test_split(\n",
        "    X_temp, y_temp, test_size=0.2, random_state=5, stratify=y_temp\n",
        ")\n",
        "\n",
        "print(X_train.shape, X_val.shape, X_test.shape)"
      ]
    },
    {
      "cell_type": "code",
      "execution_count": 16,
      "metadata": {
        "id": "SkcVbB8gYCcF",
        "colab": {
          "base_uri": "https://localhost:8080/",
          "height": 317
        },
        "outputId": "a018342e-5bfe-4556-bba4-b41b2b3eb6f3"
      },
      "outputs": [
        {
          "output_type": "execute_result",
          "data": {
            "text/plain": [
              "      customer_id  disbursed_amount  interest  employment  time_employed  \\\n",
              "3404         3404           16320.0   10.9900         NaN            NaN   \n",
              "9285         9285           14000.0   16.5158        11.0            0.0   \n",
              "9496         9496           27936.0   12.3234        11.0            0.0   \n",
              "131           131            7760.0    8.4051         2.0            0.0   \n",
              "719           719           18600.0    6.9696         5.0            0.0   \n",
              "\n",
              "       income  number_open_accounts  number_credit_lines_12  market_B  \\\n",
              "3404  37050.0                  11.0                     NaN         1   \n",
              "9285  42320.0                  10.0                     NaN         0   \n",
              "9496  63050.0                   7.0                     NaN         1   \n",
              "131   39200.0                  15.0                     1.0         1   \n",
              "719   73500.0                  10.0                     NaN         0   \n",
              "\n",
              "      market_C  ...  date_last_payment_2016-01-18  \\\n",
              "3404         0  ...                             0   \n",
              "9285         0  ...                             0   \n",
              "9496         0  ...                             0   \n",
              "131          0  ...                             0   \n",
              "719          0  ...                             1   \n",
              "\n",
              "      date_last_payment_2016-01-19  date_last_payment_2016-01-20  \\\n",
              "3404                             0                             0   \n",
              "9285                             0                             0   \n",
              "9496                             0                             0   \n",
              "131                              0                             0   \n",
              "719                              0                             0   \n",
              "\n",
              "      date_last_payment_2016-01-21  date_last_payment_2016-01-22  \\\n",
              "3404                             0                             0   \n",
              "9285                             0                             0   \n",
              "9496                             0                             0   \n",
              "131                              0                             0   \n",
              "719                              0                             0   \n",
              "\n",
              "      date_last_payment_2016-01-23  date_last_payment_2016-01-24  \\\n",
              "3404                             0                             0   \n",
              "9285                             0                             0   \n",
              "9496                             0                             0   \n",
              "131                              0                             0   \n",
              "719                              0                             0   \n",
              "\n",
              "      date_last_payment_2016-01-25  date_last_payment_2016-01-26  \\\n",
              "3404                             0                             0   \n",
              "9285                             0                             0   \n",
              "9496                             0                             0   \n",
              "131                              0                             0   \n",
              "719                              0                             0   \n",
              "\n",
              "      date_last_payment_2016-01-27  \n",
              "3404                             0  \n",
              "9285                             0  \n",
              "9496                             0  \n",
              "131                              0  \n",
              "719                              0  \n",
              "\n",
              "[5 rows x 2732 columns]"
            ],
            "text/html": [
              "\n",
              "  <div id=\"df-6f0ab673-6b35-40ab-8a22-93b8773a133d\">\n",
              "    <div class=\"colab-df-container\">\n",
              "      <div>\n",
              "<style scoped>\n",
              "    .dataframe tbody tr th:only-of-type {\n",
              "        vertical-align: middle;\n",
              "    }\n",
              "\n",
              "    .dataframe tbody tr th {\n",
              "        vertical-align: top;\n",
              "    }\n",
              "\n",
              "    .dataframe thead th {\n",
              "        text-align: right;\n",
              "    }\n",
              "</style>\n",
              "<table border=\"1\" class=\"dataframe\">\n",
              "  <thead>\n",
              "    <tr style=\"text-align: right;\">\n",
              "      <th></th>\n",
              "      <th>customer_id</th>\n",
              "      <th>disbursed_amount</th>\n",
              "      <th>interest</th>\n",
              "      <th>employment</th>\n",
              "      <th>time_employed</th>\n",
              "      <th>income</th>\n",
              "      <th>number_open_accounts</th>\n",
              "      <th>number_credit_lines_12</th>\n",
              "      <th>market_B</th>\n",
              "      <th>market_C</th>\n",
              "      <th>...</th>\n",
              "      <th>date_last_payment_2016-01-18</th>\n",
              "      <th>date_last_payment_2016-01-19</th>\n",
              "      <th>date_last_payment_2016-01-20</th>\n",
              "      <th>date_last_payment_2016-01-21</th>\n",
              "      <th>date_last_payment_2016-01-22</th>\n",
              "      <th>date_last_payment_2016-01-23</th>\n",
              "      <th>date_last_payment_2016-01-24</th>\n",
              "      <th>date_last_payment_2016-01-25</th>\n",
              "      <th>date_last_payment_2016-01-26</th>\n",
              "      <th>date_last_payment_2016-01-27</th>\n",
              "    </tr>\n",
              "  </thead>\n",
              "  <tbody>\n",
              "    <tr>\n",
              "      <th>3404</th>\n",
              "      <td>3404</td>\n",
              "      <td>16320.0</td>\n",
              "      <td>10.9900</td>\n",
              "      <td>NaN</td>\n",
              "      <td>NaN</td>\n",
              "      <td>37050.0</td>\n",
              "      <td>11.0</td>\n",
              "      <td>NaN</td>\n",
              "      <td>1</td>\n",
              "      <td>0</td>\n",
              "      <td>...</td>\n",
              "      <td>0</td>\n",
              "      <td>0</td>\n",
              "      <td>0</td>\n",
              "      <td>0</td>\n",
              "      <td>0</td>\n",
              "      <td>0</td>\n",
              "      <td>0</td>\n",
              "      <td>0</td>\n",
              "      <td>0</td>\n",
              "      <td>0</td>\n",
              "    </tr>\n",
              "    <tr>\n",
              "      <th>9285</th>\n",
              "      <td>9285</td>\n",
              "      <td>14000.0</td>\n",
              "      <td>16.5158</td>\n",
              "      <td>11.0</td>\n",
              "      <td>0.0</td>\n",
              "      <td>42320.0</td>\n",
              "      <td>10.0</td>\n",
              "      <td>NaN</td>\n",
              "      <td>0</td>\n",
              "      <td>0</td>\n",
              "      <td>...</td>\n",
              "      <td>0</td>\n",
              "      <td>0</td>\n",
              "      <td>0</td>\n",
              "      <td>0</td>\n",
              "      <td>0</td>\n",
              "      <td>0</td>\n",
              "      <td>0</td>\n",
              "      <td>0</td>\n",
              "      <td>0</td>\n",
              "      <td>0</td>\n",
              "    </tr>\n",
              "    <tr>\n",
              "      <th>9496</th>\n",
              "      <td>9496</td>\n",
              "      <td>27936.0</td>\n",
              "      <td>12.3234</td>\n",
              "      <td>11.0</td>\n",
              "      <td>0.0</td>\n",
              "      <td>63050.0</td>\n",
              "      <td>7.0</td>\n",
              "      <td>NaN</td>\n",
              "      <td>1</td>\n",
              "      <td>0</td>\n",
              "      <td>...</td>\n",
              "      <td>0</td>\n",
              "      <td>0</td>\n",
              "      <td>0</td>\n",
              "      <td>0</td>\n",
              "      <td>0</td>\n",
              "      <td>0</td>\n",
              "      <td>0</td>\n",
              "      <td>0</td>\n",
              "      <td>0</td>\n",
              "      <td>0</td>\n",
              "    </tr>\n",
              "    <tr>\n",
              "      <th>131</th>\n",
              "      <td>131</td>\n",
              "      <td>7760.0</td>\n",
              "      <td>8.4051</td>\n",
              "      <td>2.0</td>\n",
              "      <td>0.0</td>\n",
              "      <td>39200.0</td>\n",
              "      <td>15.0</td>\n",
              "      <td>1.0</td>\n",
              "      <td>1</td>\n",
              "      <td>0</td>\n",
              "      <td>...</td>\n",
              "      <td>0</td>\n",
              "      <td>0</td>\n",
              "      <td>0</td>\n",
              "      <td>0</td>\n",
              "      <td>0</td>\n",
              "      <td>0</td>\n",
              "      <td>0</td>\n",
              "      <td>0</td>\n",
              "      <td>0</td>\n",
              "      <td>0</td>\n",
              "    </tr>\n",
              "    <tr>\n",
              "      <th>719</th>\n",
              "      <td>719</td>\n",
              "      <td>18600.0</td>\n",
              "      <td>6.9696</td>\n",
              "      <td>5.0</td>\n",
              "      <td>0.0</td>\n",
              "      <td>73500.0</td>\n",
              "      <td>10.0</td>\n",
              "      <td>NaN</td>\n",
              "      <td>0</td>\n",
              "      <td>0</td>\n",
              "      <td>...</td>\n",
              "      <td>1</td>\n",
              "      <td>0</td>\n",
              "      <td>0</td>\n",
              "      <td>0</td>\n",
              "      <td>0</td>\n",
              "      <td>0</td>\n",
              "      <td>0</td>\n",
              "      <td>0</td>\n",
              "      <td>0</td>\n",
              "      <td>0</td>\n",
              "    </tr>\n",
              "  </tbody>\n",
              "</table>\n",
              "<p>5 rows × 2732 columns</p>\n",
              "</div>\n",
              "      <button class=\"colab-df-convert\" onclick=\"convertToInteractive('df-6f0ab673-6b35-40ab-8a22-93b8773a133d')\"\n",
              "              title=\"Convert this dataframe to an interactive table.\"\n",
              "              style=\"display:none;\">\n",
              "        \n",
              "  <svg xmlns=\"http://www.w3.org/2000/svg\" height=\"24px\"viewBox=\"0 0 24 24\"\n",
              "       width=\"24px\">\n",
              "    <path d=\"M0 0h24v24H0V0z\" fill=\"none\"/>\n",
              "    <path d=\"M18.56 5.44l.94 2.06.94-2.06 2.06-.94-2.06-.94-.94-2.06-.94 2.06-2.06.94zm-11 1L8.5 8.5l.94-2.06 2.06-.94-2.06-.94L8.5 2.5l-.94 2.06-2.06.94zm10 10l.94 2.06.94-2.06 2.06-.94-2.06-.94-.94-2.06-.94 2.06-2.06.94z\"/><path d=\"M17.41 7.96l-1.37-1.37c-.4-.4-.92-.59-1.43-.59-.52 0-1.04.2-1.43.59L10.3 9.45l-7.72 7.72c-.78.78-.78 2.05 0 2.83L4 21.41c.39.39.9.59 1.41.59.51 0 1.02-.2 1.41-.59l7.78-7.78 2.81-2.81c.8-.78.8-2.07 0-2.86zM5.41 20L4 18.59l7.72-7.72 1.47 1.35L5.41 20z\"/>\n",
              "  </svg>\n",
              "      </button>\n",
              "      \n",
              "  <style>\n",
              "    .colab-df-container {\n",
              "      display:flex;\n",
              "      flex-wrap:wrap;\n",
              "      gap: 12px;\n",
              "    }\n",
              "\n",
              "    .colab-df-convert {\n",
              "      background-color: #E8F0FE;\n",
              "      border: none;\n",
              "      border-radius: 50%;\n",
              "      cursor: pointer;\n",
              "      display: none;\n",
              "      fill: #1967D2;\n",
              "      height: 32px;\n",
              "      padding: 0 0 0 0;\n",
              "      width: 32px;\n",
              "    }\n",
              "\n",
              "    .colab-df-convert:hover {\n",
              "      background-color: #E2EBFA;\n",
              "      box-shadow: 0px 1px 2px rgba(60, 64, 67, 0.3), 0px 1px 3px 1px rgba(60, 64, 67, 0.15);\n",
              "      fill: #174EA6;\n",
              "    }\n",
              "\n",
              "    [theme=dark] .colab-df-convert {\n",
              "      background-color: #3B4455;\n",
              "      fill: #D2E3FC;\n",
              "    }\n",
              "\n",
              "    [theme=dark] .colab-df-convert:hover {\n",
              "      background-color: #434B5C;\n",
              "      box-shadow: 0px 1px 3px 1px rgba(0, 0, 0, 0.15);\n",
              "      filter: drop-shadow(0px 1px 2px rgba(0, 0, 0, 0.3));\n",
              "      fill: #FFFFFF;\n",
              "    }\n",
              "  </style>\n",
              "\n",
              "      <script>\n",
              "        const buttonEl =\n",
              "          document.querySelector('#df-6f0ab673-6b35-40ab-8a22-93b8773a133d button.colab-df-convert');\n",
              "        buttonEl.style.display =\n",
              "          google.colab.kernel.accessAllowed ? 'block' : 'none';\n",
              "\n",
              "        async function convertToInteractive(key) {\n",
              "          const element = document.querySelector('#df-6f0ab673-6b35-40ab-8a22-93b8773a133d');\n",
              "          const dataTable =\n",
              "            await google.colab.kernel.invokeFunction('convertToInteractive',\n",
              "                                                     [key], {});\n",
              "          if (!dataTable) return;\n",
              "\n",
              "          const docLinkHtml = 'Like what you see? Visit the ' +\n",
              "            '<a target=\"_blank\" href=https://colab.research.google.com/notebooks/data_table.ipynb>data table notebook</a>'\n",
              "            + ' to learn more about interactive tables.';\n",
              "          element.innerHTML = '';\n",
              "          dataTable['output_type'] = 'display_data';\n",
              "          await google.colab.output.renderOutput(dataTable, element);\n",
              "          const docLink = document.createElement('div');\n",
              "          docLink.innerHTML = docLinkHtml;\n",
              "          element.appendChild(docLink);\n",
              "        }\n",
              "      </script>\n",
              "    </div>\n",
              "  </div>\n",
              "  "
            ]
          },
          "metadata": {},
          "execution_count": 16
        }
      ],
      "source": [
        "X_train.head()"
      ]
    },
    {
      "cell_type": "code",
      "execution_count": 17,
      "metadata": {
        "id": "6jwhmHpWVc07"
      },
      "outputs": [],
      "source": [
        "#imputing missing values \n",
        "imp_median = SimpleImputer(missing_values=np.nan, strategy=\"median\")\n",
        "\n",
        "#fit the imputer on train data and transform the train data\n",
        "X_train[\"employment\"] = imp_median.fit_transform(X_train[[\"income\"]])\n",
        "X_train[\"time_employed\"] = imp_median.fit_transform(X_train[[\"employment\"]])\n",
        "\n",
        "#transform the validation and test data using the imputer fit on train data\n",
        "X_val[\"employment\"] = imp_median.transform(X_val[[\"employment\"]])\n",
        "X_test[\"employment\"] = imp_median.transform(X_test[[\"employment\"]])\n",
        "\n",
        "X_val[\"time_employed\"] = imp_median.transform(X_val[[\"time_employed\"]])\n",
        "X_test[\"time_employed\"] = imp_median.transform(X_test[[\"time_employed\"]])"
      ]
    },
    {
      "cell_type": "code",
      "execution_count": 18,
      "metadata": {
        "id": "qKsfU_A2dSxd",
        "colab": {
          "base_uri": "https://localhost:8080/"
        },
        "outputId": "5f85421d-0825-49b6-f6cc-10473ce0ba53"
      },
      "outputs": [
        {
          "output_type": "execute_result",
          "data": {
            "text/plain": [
              "customer_id                     0\n",
              "disbursed_amount                0\n",
              "interest                        0\n",
              "employment                      0\n",
              "time_employed                   0\n",
              "                               ..\n",
              "date_last_payment_2016-01-23    0\n",
              "date_last_payment_2016-01-24    0\n",
              "date_last_payment_2016-01-25    0\n",
              "date_last_payment_2016-01-26    0\n",
              "date_last_payment_2016-01-27    0\n",
              "Length: 2732, dtype: int64"
            ]
          },
          "metadata": {},
          "execution_count": 18
        }
      ],
      "source": [
        "X_train.isnull().sum()"
      ]
    },
    {
      "cell_type": "code",
      "execution_count": 19,
      "metadata": {
        "id": "0qmWAysWXGue",
        "colab": {
          "base_uri": "https://localhost:8080/"
        },
        "outputId": "ee23eee3-7dbd-478a-fa47-368ebf858a2d"
      },
      "outputs": [
        {
          "output_type": "stream",
          "name": "stdout",
          "text": [
            "Target value ratio in y\n",
            "0    0.9883\n",
            "1    0.0117\n",
            "Name: target, dtype: float64\n",
            "********************************************************************************\n",
            "Target value ratio in y_train\n",
            "0    0.988281\n",
            "1    0.011719\n",
            "Name: target, dtype: float64\n",
            "********************************************************************************\n",
            "Target value ratio in y_val\n",
            "0    0.988125\n",
            "1    0.011875\n",
            "Name: target, dtype: float64\n",
            "********************************************************************************\n",
            "Target value ratio in y_test\n",
            "0    0.9885\n",
            "1    0.0115\n",
            "Name: target, dtype: float64\n",
            "********************************************************************************\n"
          ]
        }
      ],
      "source": [
        "print(\"Target value ratio in y\")\n",
        "print(y.value_counts(1))\n",
        "print(\"*\" * 80)\n",
        "print(\"Target value ratio in y_train\")\n",
        "print(y_train.value_counts(1))\n",
        "print(\"*\" * 80)\n",
        "print(\"Target value ratio in y_val\")\n",
        "print(y_val.value_counts(1))\n",
        "print(\"*\" * 80)\n",
        "print(\"Target value ratio in y_test\")\n",
        "print(y_test.value_counts(1))\n",
        "print(\"*\" * 80)"
      ]
    },
    {
      "cell_type": "markdown",
      "metadata": {
        "id": "30jm_OXJat4G"
      },
      "source": [
        "## Model evaluation criterion\n",
        "\n",
        "\n",
        "**What does a bank want?**\n",
        "* A bank wants to minimize the loss - it can face 2 types of losses here: \n",
        "   * Whenever a bank lends money to a customer, they don't return it.\n",
        "   * A bank doesn't lend money to a customer thinking a customer will default but in reality, the customer won't - opportunity loss.\n",
        "\n",
        "**Which loss is greater ?**\n",
        "* Lending to a customer who wouldn't be able to pay back.\n",
        "\n",
        "**Since we want to reduce loan defaults we should use Recall as a metric of model evaluation instead of accuracy.**\n",
        "\n",
        "* Recall - It gives the ratio of True positives to Actual positives, so high Recall implies low false negatives, i.e. low chances of predicting a bad customer as a good customer.\n"
      ]
    },
    {
      "cell_type": "markdown",
      "metadata": {
        "id": "j6alhuirsj1r"
      },
      "source": [
        "# Hyperparameter Tuning"
      ]
    },
    {
      "cell_type": "code",
      "execution_count": 20,
      "metadata": {
        "id": "B6F3hJEndsxr",
        "colab": {
          "base_uri": "https://localhost:8080/"
        },
        "outputId": "d975de43-6f1e-4ed8-940a-a5d04a3ef7c0"
      },
      "outputs": [
        {
          "output_type": "stream",
          "name": "stdout",
          "text": [
            "<class 'pandas.core.frame.DataFrame'>\n",
            "Int64Index: 6400 entries, 3404 to 3364\n",
            "Columns: 2732 entries, customer_id to date_last_payment_2016-01-27\n",
            "dtypes: float64(7), int64(1), uint8(2724)\n",
            "memory usage: 17.1 MB\n"
          ]
        }
      ],
      "source": [
        "X_train.info()"
      ]
    },
    {
      "cell_type": "code",
      "execution_count": 21,
      "metadata": {
        "id": "sLErwgyKeIxR"
      },
      "outputs": [],
      "source": [
        "X_train = X_train.replace((np.inf, -np.inf, np.nan), 0).reset_index(drop=True)"
      ]
    },
    {
      "cell_type": "code",
      "execution_count": 22,
      "metadata": {
        "id": "EfOzUfuzfX9m"
      },
      "outputs": [],
      "source": [
        "y_train = y_train.replace((np.inf, -np.inf, np.nan), 0).reset_index(drop=True)"
      ]
    },
    {
      "cell_type": "code",
      "execution_count": 23,
      "metadata": {
        "id": "So20QMNbf5T0"
      },
      "outputs": [],
      "source": [
        "y_val = y_val.replace((np.inf, -np.inf, np.nan), 0).reset_index(drop=True)\n",
        "y_test = y_test.replace((np.inf, -np.inf, np.nan), 0).reset_index(drop=True)"
      ]
    },
    {
      "cell_type": "code",
      "execution_count": 24,
      "metadata": {
        "id": "lrlgRxI7gTL-"
      },
      "outputs": [],
      "source": [
        "X_val = X_val.replace((np.inf, -np.inf, np.nan), 0).reset_index(drop=True)"
      ]
    },
    {
      "cell_type": "code",
      "execution_count": 25,
      "metadata": {
        "id": "9hKVS0RudEkG",
        "colab": {
          "base_uri": "https://localhost:8080/"
        },
        "outputId": "435be277-524e-4752-f36c-4d84be0302f8"
      },
      "outputs": [
        {
          "output_type": "execute_result",
          "data": {
            "text/plain": [
              "RandomForestClassifier(random_state=1)"
            ]
          },
          "metadata": {},
          "execution_count": 25
        }
      ],
      "source": [
        "# model without hyperparameter tuning\n",
        "rf = RandomForestClassifier(random_state=1)\n",
        "rf.fit(X_train, y_train)"
      ]
    },
    {
      "cell_type": "code",
      "execution_count": 26,
      "metadata": {
        "id": "Wpmoqh8sat4I",
        "colab": {
          "base_uri": "https://localhost:8080/"
        },
        "outputId": "ff2771cf-7c51-4847-c9fd-d56347cfed5c"
      },
      "outputs": [
        {
          "output_type": "stream",
          "name": "stdout",
          "text": [
            "Recall on train and validation set\n",
            "0.9866666666666667\n",
            "0.0\n",
            "\n",
            "Precision on train and validation set\n",
            "1.0\n",
            "0.0\n",
            "\n",
            "Accuracy on train and validation set\n",
            "0.99984375\n",
            "0.988125\n"
          ]
        }
      ],
      "source": [
        "# Checking recall score on train and validation set\n",
        "print(\"Recall on train and validation set\")\n",
        "print(recall_score(y_train, rf.predict(X_train)))\n",
        "print(recall_score(y_val, rf.predict(X_val)))\n",
        "print(\"\")\n",
        "\n",
        "# Checking Precision score on train and validation set\n",
        "print(\"Precision on train and validation set\")\n",
        "print(precision_score(y_train, rf.predict(X_train)))\n",
        "print(precision_score(y_val, rf.predict(X_val)))\n",
        "\n",
        "print(\"\")\n",
        "\n",
        "# Checking Accuracy score on train and validation set\n",
        "print(\"Accuracy on train and validation set\")\n",
        "print(accuracy_score(y_train, rf.predict(X_train)))\n",
        "print(accuracy_score(y_val, rf.predict(X_val)))"
      ]
    },
    {
      "cell_type": "markdown",
      "metadata": {
        "id": "EptTvLbuat4J"
      },
      "source": [
        "## Grid Search CV\n",
        "* Hyperparameter tuning is also tricky in the sense that there is no direct way to calculate how a change in the hyperparameter value will reduce the loss of your model, so we usually resort to experimentation. i.e we'll use Grid search\n",
        "* Grid search is a tuning technique that attempts to compute the optimum values of hyperparameters. \n",
        "* It is an exhaustive search that is performed on the specific parameter values of a model.\n",
        "* The parameters of the estimator/model used to apply these methods are optimized by cross-validated grid-search over a parameter grid."
      ]
    },
    {
      "cell_type": "code",
      "execution_count": 27,
      "metadata": {
        "id": "w9_tWJ6Hgf2b",
        "colab": {
          "base_uri": "https://localhost:8080/"
        },
        "outputId": "64cfc623-3a5b-4e2b-9d7f-5769fc64f949"
      },
      "outputs": [
        {
          "output_type": "execute_result",
          "data": {
            "text/plain": [
              "{'bootstrap': True,\n",
              " 'ccp_alpha': 0.0,\n",
              " 'class_weight': None,\n",
              " 'criterion': 'gini',\n",
              " 'max_depth': None,\n",
              " 'max_features': 'auto',\n",
              " 'max_leaf_nodes': None,\n",
              " 'max_samples': None,\n",
              " 'min_impurity_decrease': 0.0,\n",
              " 'min_samples_leaf': 1,\n",
              " 'min_samples_split': 2,\n",
              " 'min_weight_fraction_leaf': 0.0,\n",
              " 'n_estimators': 100,\n",
              " 'n_jobs': None,\n",
              " 'oob_score': False,\n",
              " 'random_state': None,\n",
              " 'verbose': 0,\n",
              " 'warm_start': False}"
            ]
          },
          "metadata": {},
          "execution_count": 27
        }
      ],
      "source": [
        "RandomForestClassifier().get_params()"
      ]
    },
    {
      "cell_type": "code",
      "execution_count": 28,
      "metadata": {
        "id": "VnKFyRAwVAPn",
        "colab": {
          "base_uri": "https://localhost:8080/"
        },
        "outputId": "70b4a2ec-39ad-4b9f-f46c-8e1db58dcec9"
      },
      "outputs": [
        {
          "output_type": "stream",
          "name": "stdout",
          "text": [
            "[0.2 0.3 0.4 0.5 0.6]\n",
            "[5 6 7 8 9]\n"
          ]
        }
      ],
      "source": [
        "print(np.arange(0.2, 0.7, 0.1))\n",
        "\n",
        "print(np.arange(5,10))"
      ]
    },
    {
      "cell_type": "markdown",
      "metadata": {
        "id": "3m5AtskSat4K"
      },
      "source": [
        "### Let's tune Random forest using Grid Search"
      ]
    },
    {
      "cell_type": "code",
      "execution_count": null,
      "metadata": {
        "id": "ylfOoVr0at4K",
        "colab": {
          "base_uri": "https://localhost:8080/"
        },
        "outputId": "a66a4d50-7a4a-4d38-e01c-8c7c34192c3c"
      },
      "outputs": [
        {
          "output_type": "stream",
          "name": "stdout",
          "text": [
            "Fitting 2 folds for each of 1800 candidates, totalling 3600 fits\n"
          ]
        }
      ],
      "source": [
        "%%time\n",
        "\n",
        "# Choose the type of classifier. \n",
        "rf1 = RandomForestClassifier(random_state=1)\n",
        "\n",
        "# Grid of parameters to choose from\n",
        "parameters = {\"n_estimators\": [150,200,250],\n",
        "    \"min_samples_leaf\": np.arange(5, 10),\n",
        "    \"max_features\": np.arange(0.2, 0.7, 0.1),\n",
        "    \"max_samples\": np.arange(0.3, 0.7, 0.1),\n",
        "    \"class_weight\" : ['balanced', 'balanced_subsample'],\n",
        "    \"max_depth\":np.arange(3,4,5),\n",
        "    \"min_impurity_decrease\":[0.001, 0.002, 0.003]\n",
        "             }\n",
        "\n",
        "# Type of scoring used to compare parameter combinations\n",
        "acc_scorer = metrics.make_scorer(metrics.recall_score)\n",
        "\n",
        "# Run the grid search\n",
        "grid_obj = GridSearchCV(rf1, parameters, scoring=acc_scorer, cv=2, n_jobs= -1, verbose = 2)\n",
        "# verbose = 2 tells about the number of fits, which can give an idea of how long will the model take in tuning\n",
        "# n_jobs = -1 so that all CPU cores can be run parallelly to optimize the Search\n",
        "\n",
        "grid_obj = grid_obj.fit(X_train, y_train)\n",
        "\n",
        "# Print the best combination of parameters\n",
        "grid_obj.best_params_\n"
      ]
    },
    {
      "cell_type": "code",
      "execution_count": 30,
      "metadata": {
        "id": "SVO8ak5Fat4L",
        "colab": {
          "base_uri": "https://localhost:8080/",
          "height": 171
        },
        "outputId": "ff920617-1a36-4b21-e02c-0028e0484d07"
      },
      "outputs": [
        {
          "output_type": "error",
          "ename": "AttributeError",
          "evalue": "ignored",
          "traceback": [
            "\u001b[0;31m---------------------------------------------------------------------------\u001b[0m",
            "\u001b[0;31mAttributeError\u001b[0m                            Traceback (most recent call last)",
            "\u001b[0;32m<ipython-input-30-0d2410713957>\u001b[0m in \u001b[0;36m<module>\u001b[0;34m\u001b[0m\n\u001b[0;32m----> 1\u001b[0;31m \u001b[0mgrid_obj\u001b[0m\u001b[0;34m.\u001b[0m\u001b[0mbest_score_\u001b[0m\u001b[0;34m\u001b[0m\u001b[0;34m\u001b[0m\u001b[0m\n\u001b[0m",
            "\u001b[0;31mAttributeError\u001b[0m: 'GridSearchCV' object has no attribute 'best_score_'"
          ]
        }
      ],
      "source": [
        "grid_obj.best_score_"
      ]
    },
    {
      "cell_type": "code",
      "execution_count": null,
      "metadata": {
        "id": "LgTSXwpOg6xO"
      },
      "outputs": [],
      "source": [
        "# Set the clf to the best combination of parameters\n",
        "rf1_tuned = RandomForestClassifier(\n",
        "    class_weight=\"balanced\",\n",
        "    max_features=0.2,\n",
        "    max_samples=0.6000000000000001,\n",
        "    min_samples_leaf=5,\n",
        "    n_estimators=150,\n",
        "    max_depth=3,\n",
        "    random_state=1,\n",
        "    min_impurity_decrease=0.001,\n",
        ")\n",
        "\n",
        "# Fit the best algorithm to the data.\n",
        "rf1_tuned.fit(X_train, y_train)"
      ]
    },
    {
      "cell_type": "code",
      "execution_count": null,
      "metadata": {
        "id": "Uwkw63nFat4M"
      },
      "outputs": [],
      "source": [
        "# Checking recall score on train and validation set\n",
        "print(\"Recall on train and validation set\")\n",
        "print(recall_score(y_train, rf1_tuned.predict(X_train)))\n",
        "print(recall_score(y_val, rf1_tuned.predict(X_val)))\n",
        "print(\"\")\n",
        "\n",
        "# Checking precision score on train and validation set\n",
        "print(\"Precision on train and validation set\")\n",
        "print(precision_score(y_train, rf1_tuned.predict(X_train)))\n",
        "print(precision_score(y_val, rf1_tuned.predict(X_val)))\n",
        "print(\"\")\n",
        "\n",
        "# Checking accuracy score on train and validation set\n",
        "print(\"Accuracy on train and validation set\")\n",
        "print(accuracy_score(y_train, rf1_tuned.predict(X_train)))\n",
        "print(accuracy_score(y_val, rf1_tuned.predict(X_val)))"
      ]
    },
    {
      "cell_type": "markdown",
      "metadata": {
        "id": "UnujALXkat4O"
      },
      "source": [
        "## Randomized Search CV\n",
        "* Random search is a tuning technique that attempts to compute the optimum values of hyperparameters randomly unlike grid search"
      ]
    },
    {
      "cell_type": "code",
      "execution_count": null,
      "metadata": {
        "id": "-4Lkjcefat4P"
      },
      "outputs": [],
      "source": [
        "%%time\n",
        "\n",
        "# Choose the type of classifier. \n",
        "rf2 = RandomForestClassifier(random_state=1)\n",
        "\n",
        "# Grid of parameters to choose from\n",
        "parameters = {\"n_estimators\": [150,200,250],\n",
        "    \"min_samples_leaf\": np.arange(5, 10),\n",
        "    \"max_features\": np.arange(0.2, 0.7, 0.1), \n",
        "    \"max_samples\": np.arange(0.3, 0.7, 0.1),\n",
        "    \"max_depth\":np.arange(3,4,5),\n",
        "    \"class_weight\" : ['balanced', 'balanced_subsample'],\n",
        "    \"min_impurity_decrease\":[0.001, 0.002, 0.003]\n",
        "             }\n",
        "\n",
        "# Type of scoring used to compare parameter combinations\n",
        "acc_scorer = metrics.make_scorer(metrics.recall_score)\n",
        "\n",
        "# Run the random search\n",
        "grid_obj = RandomizedSearchCV(rf2, parameters,n_iter=30, scoring=acc_scorer,cv=5, random_state = 1, n_jobs = -1, verbose = 2)\n",
        "# using n_iter = 30, so randomized search will try 30 different combinations of hyperparameters\n",
        "# by default, n_iter = 10\n",
        "\n",
        "grid_obj = grid_obj.fit(X_train, y_train)\n",
        "\n",
        "# Print the best combination of parameters\n",
        "grid_obj.best_params_\n"
      ]
    },
    {
      "cell_type": "code",
      "execution_count": null,
      "metadata": {
        "id": "OjXflRTVhJxX"
      },
      "outputs": [],
      "source": [
        "grid_obj.best_score_"
      ]
    },
    {
      "cell_type": "code",
      "execution_count": null,
      "metadata": {
        "id": "uuFBNxf6hMSJ"
      },
      "outputs": [],
      "source": [
        "# Set the clf to the best combination of parameters\n",
        "rf2_tuned = RandomForestClassifier(\n",
        "    class_weight=\"balanced\",\n",
        "    max_features=0.2,\n",
        "    max_samples=0.5,\n",
        "    min_samples_leaf=5,\n",
        "    n_estimators=150,\n",
        "    random_state=1,\n",
        "    max_depth=3,\n",
        "    min_impurity_decrease=0.003,\n",
        ")\n",
        "\n",
        "# Fit the best algorithm to the data.\n",
        "rf2_tuned.fit(X_train, y_train)"
      ]
    },
    {
      "cell_type": "code",
      "execution_count": null,
      "metadata": {
        "id": "Ji4FaIJ3hOoK"
      },
      "outputs": [],
      "source": [
        "# Checking recall score on train and validation set\n",
        "print(\"Recall on train and validation set\")\n",
        "print(recall_score(y_train, rf2_tuned.predict(X_train)))\n",
        "print(recall_score(y_val, rf2_tuned.predict(X_val)))\n",
        "print(\"\")\n",
        "print(\"Precision on train and validation set\")\n",
        "# Checking precision score on train and validation set\n",
        "print(precision_score(y_train, rf2_tuned.predict(X_train)))\n",
        "print(precision_score(y_val, rf2_tuned.predict(X_val)))\n",
        "print(\"\")\n",
        "print(\"Accuracy on train and validation set\")\n",
        "# Checking accuracy score on train and validation set\n",
        "print(accuracy_score(y_train, rf2_tuned.predict(X_train)))\n",
        "print(accuracy_score(y_val, rf2_tuned.predict(X_val)))"
      ]
    },
    {
      "cell_type": "code",
      "execution_count": null,
      "metadata": {
        "id": "GiA6Vt0uhRIs"
      },
      "outputs": [],
      "source": [
        "model = rf1_tuned"
      ]
    },
    {
      "cell_type": "code",
      "execution_count": null,
      "metadata": {
        "id": "fUTQw9GfhTZL"
      },
      "outputs": [],
      "source": [
        "# Checking recall score on test set\n",
        "print(\"Recall on test set\")\n",
        "print(recall_score(y_test, model.predict(X_test)))\n",
        "print(\"\")\n",
        "\n",
        "# Checking precision score on test set\n",
        "print(\"Precision on test set\")\n",
        "print(precision_score(y_test, model.predict(X_test)))\n",
        "print(\"\")\n",
        "\n",
        "# Checking accuracy score on test set\n",
        "print(\"Accuracy on test set\")\n",
        "print(accuracy_score(y_test, model.predict(X_test)))"
      ]
    }
  ],
  "metadata": {
    "colab": {
      "provenance": [],
      "include_colab_link": true
    },
    "gpuClass": "standard",
    "kernelspec": {
      "display_name": "Python 3",
      "name": "python3"
    },
    "language_info": {
      "name": "python"
    }
  },
  "nbformat": 4,
  "nbformat_minor": 0
}